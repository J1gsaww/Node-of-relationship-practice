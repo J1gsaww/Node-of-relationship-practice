{
 "cells": [
  {
   "cell_type": "markdown",
   "metadata": {},
   "source": [
    "# Relationship Implementation"
   ]
  },
  {
   "cell_type": "code",
   "execution_count": 31,
   "metadata": {},
   "outputs": [
    {
     "name": "stdout",
     "output_type": "stream",
     "text": [
      "0 Hero\n",
      "1 Dunn\n",
      "2 Sue\n",
      "3 Chci\n",
      "4 Thor\n",
      "5 CClive\n",
      "6 Hicks\n",
      "7 Devin\n",
      "8 Kate\n",
      "9 Klein\n"
     ]
    }
   ],
   "source": [
    "#Dictionary\n",
    "users = [\n",
    "    {\"id\": 0, \"name\": \"Hero\"}, \n",
    "    {\"id\": 1, \"name\": \"Dunn\"}, \n",
    "    {\"id\": 2, \"name\": \"Sue\"},\n",
    "    {\"id\": 3, \"name\": \"Chci\"},\n",
    "    {\"id\": 4, \"name\": \"Thor\"},\n",
    "    {\"id\": 5, \"name\": \"CClive\"},\n",
    "    {\"id\": 6, \"name\": \"Hicks\"},\n",
    "    {\"id\": 7, \"name\": \"Devin\"},\n",
    "    {\"id\": 8, \"name\": \"Kate\"},\n",
    "    {\"id\": 9, \"name\": \"Klein\"}\n",
    "]\n",
    "\n",
    "for user in users:\n",
    "    print(user[\"id\"],user[\"name\"])"
   ]
  },
  {
   "cell_type": "markdown",
   "metadata": {},
   "source": []
  },
  {
   "cell_type": "code",
   "execution_count": 32,
   "metadata": {},
   "outputs": [
    {
     "name": "stdout",
     "output_type": "stream",
     "text": [
      "friendships = {\n",
      "0:[],\n",
      "1:[],\n",
      "2:[],\n",
      "3:[],\n",
      "4:[],\n",
      "5:[],\n",
      "6:[],\n",
      "7:[],\n",
      "8:[],\n",
      "9:[],\n",
      "}\n"
     ]
    }
   ],
   "source": [
    "Friendship_pairs =[(0,1),(0,2),(1,2),(1,3),(2,3),(3,4),(4,5),(5,6),(5,7),(6,8),(7,8),(8,9)]\n",
    "\n",
    "# Initialize the dict with an empty list for each user id:\n",
    "friendships = {user[\"id\"]:[] for user in users}\n",
    "\n",
    "print(\"friendships = {\")\n",
    "for user_id in friendships:\n",
    "    print(f\"{user_id}:[],\")\n",
    "print(\"}\")"
   ]
  },
  {
   "cell_type": "code",
   "execution_count": 33,
   "metadata": {},
   "outputs": [
    {
     "data": {
      "text/plain": [
       "'\\nAfter processing (0,1):\\nfriendships[0].append(1) adds 1 to the list of friends for user 0.\\nfriendships[1].append(0) adds 0 to the list of friends for user 1.\\n'"
      ]
     },
     "execution_count": 33,
     "metadata": {},
     "output_type": "execute_result"
    }
   ],
   "source": [
    "# Populate\n",
    "for i, j in Friendship_pairs:\n",
    "    friendships[i].append(j)\n",
    "    friendships[j].append(i)\n",
    "\"\"\"\n",
    "After processing (0,1):\n",
    "friendships[0].append(1) adds 1 to the list of friends for user 0.\n",
    "friendships[1].append(0) adds 0 to the list of friends for user 1.\n",
    "\"\"\""
   ]
  },
  {
   "cell_type": "code",
   "execution_count": 34,
   "metadata": {},
   "outputs": [
    {
     "name": "stdout",
     "output_type": "stream",
     "text": [
      "{\n",
      "    0: [1, 2],\n",
      "    1: [0, 2, 3],\n",
      "    2: [0, 1, 3],\n",
      "    3: [1, 2, 4],\n",
      "    4: [3, 5],\n",
      "    5: [4, 6, 7],\n",
      "    6: [5, 8],\n",
      "    7: [5, 8],\n",
      "    8: [6, 7, 9],\n",
      "    9: [8],\n",
      "}\n"
     ]
    }
   ],
   "source": [
    "print(\"{\")\n",
    "for user_id, friends in friendships.items():\n",
    "    print(f\"    {user_id}: {friends},\")\n",
    "print(\"}\")"
   ]
  },
  {
   "cell_type": "markdown",
   "metadata": {},
   "source": [
    "## Installing library"
   ]
  },
  {
   "cell_type": "code",
   "execution_count": 35,
   "metadata": {},
   "outputs": [
    {
     "name": "stdout",
     "output_type": "stream",
     "text": [
      "Requirement already satisfied: networkx in c:\\users\\user\\appdata\\local\\packages\\pythonsoftwarefoundation.python.3.11_qbz5n2kfra8p0\\localcache\\local-packages\\python311\\site-packages (3.3)\n",
      "Requirement already satisfied: matplotlib in c:\\users\\user\\appdata\\local\\packages\\pythonsoftwarefoundation.python.3.11_qbz5n2kfra8p0\\localcache\\local-packages\\python311\\site-packages (3.8.2)\n",
      "Requirement already satisfied: contourpy>=1.0.1 in c:\\users\\user\\appdata\\local\\packages\\pythonsoftwarefoundation.python.3.11_qbz5n2kfra8p0\\localcache\\local-packages\\python311\\site-packages (from matplotlib) (1.2.0)\n",
      "Requirement already satisfied: cycler>=0.10 in c:\\users\\user\\appdata\\local\\packages\\pythonsoftwarefoundation.python.3.11_qbz5n2kfra8p0\\localcache\\local-packages\\python311\\site-packages (from matplotlib) (0.12.1)\n",
      "Requirement already satisfied: fonttools>=4.22.0 in c:\\users\\user\\appdata\\local\\packages\\pythonsoftwarefoundation.python.3.11_qbz5n2kfra8p0\\localcache\\local-packages\\python311\\site-packages (from matplotlib) (4.47.2)\n",
      "Requirement already satisfied: kiwisolver>=1.3.1 in c:\\users\\user\\appdata\\local\\packages\\pythonsoftwarefoundation.python.3.11_qbz5n2kfra8p0\\localcache\\local-packages\\python311\\site-packages (from matplotlib) (1.4.5)\n",
      "Requirement already satisfied: numpy<2,>=1.21 in c:\\users\\user\\appdata\\local\\packages\\pythonsoftwarefoundation.python.3.11_qbz5n2kfra8p0\\localcache\\local-packages\\python311\\site-packages (from matplotlib) (1.26.3)\n",
      "Requirement already satisfied: packaging>=20.0 in c:\\users\\user\\appdata\\local\\packages\\pythonsoftwarefoundation.python.3.11_qbz5n2kfra8p0\\localcache\\local-packages\\python311\\site-packages (from matplotlib) (23.2)\n",
      "Requirement already satisfied: pillow>=8 in c:\\users\\user\\appdata\\local\\packages\\pythonsoftwarefoundation.python.3.11_qbz5n2kfra8p0\\localcache\\local-packages\\python311\\site-packages (from matplotlib) (10.1.0)\n",
      "Requirement already satisfied: pyparsing>=2.3.1 in c:\\users\\user\\appdata\\local\\packages\\pythonsoftwarefoundation.python.3.11_qbz5n2kfra8p0\\localcache\\local-packages\\python311\\site-packages (from matplotlib) (3.1.1)\n",
      "Requirement already satisfied: python-dateutil>=2.7 in c:\\users\\user\\appdata\\local\\packages\\pythonsoftwarefoundation.python.3.11_qbz5n2kfra8p0\\localcache\\local-packages\\python311\\site-packages (from matplotlib) (2.8.2)\n",
      "Requirement already satisfied: six>=1.5 in c:\\users\\user\\appdata\\local\\packages\\pythonsoftwarefoundation.python.3.11_qbz5n2kfra8p0\\localcache\\local-packages\\python311\\site-packages (from python-dateutil>=2.7->matplotlib) (1.16.0)\n"
     ]
    },
    {
     "name": "stderr",
     "output_type": "stream",
     "text": [
      "\n",
      "[notice] A new release of pip is available: 23.3.2 -> 24.2\n",
      "[notice] To update, run: C:\\Users\\User\\AppData\\Local\\Microsoft\\WindowsApps\\PythonSoftwareFoundation.Python.3.11_qbz5n2kfra8p0\\python.exe -m pip install --upgrade pip\n"
     ]
    }
   ],
   "source": [
    "!pip install networkx matplotlib"
   ]
  },
  {
   "cell_type": "markdown",
   "metadata": {},
   "source": [
    "# Node Relationship"
   ]
  },
  {
   "cell_type": "code",
   "execution_count": 37,
   "metadata": {},
   "outputs": [
    {
     "data": {
      "image/png": "[encoded data removed]",
      "text/plain": [
       "<Figure size 640x480 with 1 Axes>"
      ]
     },
     "metadata": {},
     "output_type": "display_data"
    }
   ],
   "source": [
    "import networkx as nx\n",
    "import matplotlib.pyplot as plt\n",
    "\n",
    "G = nx.Graph()\n",
    "\n",
    "# Add edges from the friendship dictionary\n",
    "for user_id, friends in friendships.items():\n",
    "    for friend_id in friends:\n",
    "        G.add_edge(user_id,friend_id)\n",
    "\n",
    "# Draw the graph\n",
    "nx.draw(G, with_labels=True, node_color='skyblue', node_size=1500, font_size=15, font_color='black', font_weight='bold')\n",
    "plt.show()"
   ]
  },
  {
   "cell_type": "markdown",
   "metadata": {},
   "source": [
    "# Practice Questions"
   ]
  },
  {
   "cell_type": "markdown",
   "metadata": {},
   "source": [
    "All questions has generated by ChatGPT based on relationship code for personal practice.\n",
    "<br>\n",
    "And add this prompt\n",
    "<br> - \"From now on, any question I ask you, don't provide me with solutions—just guide me (Don't tell me the answer).\"\n",
    "<br> - \"Another duty I give you: If I ask something like 'Is this correct?' and it is, tell me. If it’s not, don't tell me the answer—just guide me.\"\n",
    "\n",
    "\n",
    "\n",
    "\n",
    "\n",
    "\n"
   ]
  },
  {
   "cell_type": "markdown",
   "metadata": {},
   "source": [
    "1. How many relationships are there in total?"
   ]
  },
  {
   "cell_type": "code",
   "execution_count": 41,
   "metadata": {},
   "outputs": [
    {
     "name": "stdout",
     "output_type": "stream",
     "text": [
      "The numbers of relationship are  12\n"
     ]
    }
   ],
   "source": [
    "print(\"The numbers of relationship are \", G.number_of_edges())"
   ]
  },
  {
   "cell_type": "markdown",
   "metadata": {},
   "source": [
    "**ChatGPT Response to this answer**\n",
    "<br>\n",
    "\"Yes, that is correct! The G.number_of_edges() method is indeed the right way to count the number of edges (relationships) in the graph using networkx. Well done!\""
   ]
  },
  {
   "cell_type": "markdown",
   "metadata": {},
   "source": [
    "2. Which person has the most relationships?"
   ]
  },
  {
   "cell_type": "code",
   "execution_count": 71,
   "metadata": {},
   "outputs": [
    {
     "name": "stdout",
     "output_type": "stream",
     "text": [
      "User ID: 0, Number of Friends: 2\n",
      "User ID: 1, Number of Friends: 3\n",
      "User ID: 2, Number of Friends: 3\n",
      "User ID: 3, Number of Friends: 3\n",
      "User ID: 4, Number of Friends: 2\n",
      "User ID: 5, Number of Friends: 3\n",
      "User ID: 6, Number of Friends: 2\n",
      "User ID: 7, Number of Friends: 2\n",
      "User ID: 8, Number of Friends: 3\n",
      "User ID: 9, Number of Friends: 1\n",
      "Most relationship is 3\n",
      "A person who has most relationship are [1, 2, 3, 5, 8]\n",
      "\n",
      "A person who has most relationship are\n",
      "Dunn\n",
      "Sue\n",
      "Chci\n",
      "CClive\n",
      "Kate\n"
     ]
    }
   ],
   "source": [
    "def num_friends(user):\n",
    "    user_id = user[\"id\"] #  Extracts the user's ID from the user dictionary\n",
    "    friend_id = friendships[user_id] # Retrieves the list of friend IDs for that user from the friendships dictionary.\n",
    "    return len(friend_id) # Returns the length of that list, which corresponds to the number of friends.\n",
    "num_friends_by_id = [(user[\"id\"], num_friends(user))\n",
    "                     for user in users]\n",
    "\n",
    "max_r = 0\n",
    "for user_id, num_friends in num_friends_by_id:\n",
    "    print(f\"User ID: {user_id}, Number of Friends: {num_friends}\")\n",
    "    i = num_friends\n",
    "    if i > max_r:\n",
    "        max_r = i\n",
    "print(\"Most relationship is\", max_r)\n",
    "\n",
    "pp_most_relationship = []\n",
    "for user_id, num_friends in num_friends_by_id:\n",
    "    if num_friends == max_r:\n",
    "        pp_most_relationship.append(user_id)\n",
    "print(\"A person who has most relationship are\", pp_most_relationship)\n",
    "\n",
    "print(\"\\nA person who has most relationship are\")\n",
    "for user in users:\n",
    "    Temp = user[\"id\"]\n",
    "    if Temp in pp_most_relationship:\n",
    "        print(user['name'])"
   ]
  },
  {
   "cell_type": "markdown",
   "metadata": {},
   "source": [
    "**ChatGPT Response to this answer**\n",
    "<br>\n",
    "Yes, your approach is correct! The code effectively identifies the user(s) with the most relationships (friends) and prints their IDs as well as their names. Here's a breakdown of what each part of your code does:\n",
    "<br>\n",
    "<br>\n",
    "**Step-by-Step Breakdown:**\n",
    "<br>\n",
    "**num_friends Function:**\n",
    "<br>\n",
    "This function correctly calculates the number of friends for a given user.\n",
    "<br>\n",
    "<br>\n",
    "**num_friends_by_id:**\n",
    "<br>\n",
    "This list comprehension creates a list of tuples, each containing a user ID and the corresponding number of friends.\n",
    "<br>\n",
    "<br>\n",
    "**Finding the Maximum Number of Relationships:**\n",
    "<br>\n",
    "The loop iterates through num_friends_by_id to find the maximum number of friends (max_r).\n",
    "<br><br>\n",
    "**Identifying Users with the Most Relationships:**\n",
    "<br>\n",
    "You correctly identify all users who have the maximum number of relationships and store their IDs in pp_most_relationship.\n",
    "<br><br>\n",
    "**Printing User Names with the Most Relationships:**\n",
    "<br>\n",
    "Finally, you iterate over users to print the names of those who have the most relationships.\n",
    "<br><br>\n",
    "**Summary:**\n",
    "<br>\n",
    "Your logic and code structure are sound, and it correctly implements the solution for identifying and printing the users with the most relationships. Great work!"
   ]
  },
  {
   "cell_type": "markdown",
   "metadata": {},
   "source": [
    "3. Sort the people by the number of relationships, from most to least. "
   ]
  },
  {
   "cell_type": "code",
   "execution_count": 73,
   "metadata": {},
   "outputs": [
    {
     "name": "stdout",
     "output_type": "stream",
     "text": [
      "[(0, 2), (1, 3), (2, 3), (3, 3), (4, 2), (5, 3), (6, 2), (7, 2), (8, 3), (9, 1)]\n"
     ]
    },
    {
     "ename": "IndexError",
     "evalue": "list assignment index out of range",
     "output_type": "error",
     "traceback": [
      "\u001b[1;31m---------------------------------------------------------------------------\u001b[0m",
      "\u001b[1;31mIndexError\u001b[0m                                Traceback (most recent call last)",
      "Cell \u001b[1;32mIn[73], line 4\u001b[0m\n\u001b[0;32m      2\u001b[0m num_friends_by_relationship \u001b[38;5;241m=\u001b[39m []\n\u001b[0;32m      3\u001b[0m \u001b[38;5;28;01mfor\u001b[39;00m i,j \u001b[38;5;129;01min\u001b[39;00m num_friends_by_id:\n\u001b[1;32m----> 4\u001b[0m     \u001b[43mnum_friends_by_relationship\u001b[49m\u001b[43m[\u001b[49m\u001b[43mi\u001b[49m\u001b[43m]\u001b[49m \u001b[38;5;241m=\u001b[39m j\n\u001b[0;32m      5\u001b[0m     num_friends_by_relationship[j] \u001b[38;5;241m=\u001b[39m i\n\u001b[0;32m      6\u001b[0m \u001b[38;5;28mprint\u001b[39m(num_friends_by_relationship)\n",
      "\u001b[1;31mIndexError\u001b[0m: list assignment index out of range"
     ]
    }
   ],
   "source": [
    "print(num_friends_by_id)\n",
    "num_friends_by_relationship = []\n",
    "for  in num_friends_by_id:\n",
    "    num_friends_by_relationship[i] = j\n",
    "    num_friends_by_relationship[j] = i\n",
    "print(num_friends_by_relationship)"
   ]
  },
  {
   "cell_type": "markdown",
   "metadata": {},
   "source": [
    "4. Is there anyone with no friends?"
   ]
  },
  {
   "cell_type": "markdown",
   "metadata": {},
   "source": [
    "5. Are all friendships mutual?"
   ]
  },
  {
   "cell_type": "markdown",
   "metadata": {},
   "source": [
    "6. Find all people who have exactly 2 friends."
   ]
  },
  {
   "cell_type": "markdown",
   "metadata": {},
   "source": [
    "7. Who is directly connected to both the most and the fewest people?"
   ]
  },
  {
   "cell_type": "markdown",
   "metadata": {},
   "source": [
    "8. What is the average number of friends per person?"
   ]
  },
  {
   "cell_type": "markdown",
   "metadata": {},
   "source": [
    "9. Which pairs of people share the most mutual friends?"
   ]
  },
  {
   "cell_type": "markdown",
   "metadata": {},
   "source": [
    "10. Is there any isolated group of friends (subgraph) that is not connected to others?"
   ]
  },
  {
   "cell_type": "markdown",
   "metadata": {},
   "source": [
    "11. Find all friends of a specific person (e.g., User 3) and their friends."
   ]
  },
  {
   "cell_type": "markdown",
   "metadata": {},
   "source": [
    "12. Create a recommendation list: suggest new friends to each person based on their friends' friends."
   ]
  },
  {
   "cell_type": "markdown",
   "metadata": {},
   "source": [
    "13. Which person is at the center of the network (has the shortest average distance to all other people)?"
   ]
  },
  {
   "cell_type": "markdown",
   "metadata": {},
   "source": [
    "14. List all pairs of friends that are also mutual friends with a third person."
   ]
  },
  {
   "cell_type": "markdown",
   "metadata": {},
   "source": [
    "15. If one friendship is removed at random, what is the probability that the network will still be fully connected?"
   ]
  }
 ],
 "metadata": {
  "kernelspec": {
   "display_name": "Python 3",
   "language": "python",
   "name": "python3"
  },
  "language_info": {
   "codemirror_mode": {
    "name": "ipython",
    "version": 3
   },
   "file_extension": ".py",
   "mimetype": "text/x-python",
   "name": "python",
   "nbconvert_exporter": "python",
   "pygments_lexer": "ipython3",
   "version": "3.11.9"
  }
 },
 "nbformat": 4,
 "nbformat_minor": 2
}
